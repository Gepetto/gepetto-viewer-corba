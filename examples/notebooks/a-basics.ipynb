{
  "cells": [
    {
      "cell_type": "markdown",
      "metadata": {},
      "source": [
        "# Launch the gui and create a window."
      ]
    },
    {
      "cell_type": "code",
      "execution_count": 6,
      "metadata": {},
      "outputs": [],
      "source": [
        "from gepetto.corbaserver import Color, gui_client, start_server\n",
        "\n",
        "start_server(args=[])\n",
        "gui = gui_client(window_name=\"tuto\")"
      ]
    },
    {
      "cell_type": "markdown",
      "metadata": {},
      "source": [
        "# Add some visual entities\n",
        "\n",
        "They are called nodes and are organised as a tree.\n",
        "\n",
        "When you create a window, a group node (called *group* from now on) ",
        "is created with the same name. Adding nodes to this group displays ",
        "them in the window."
      ]
    },
    {
      "cell_type": "code",
      "execution_count": 20,
      "metadata": {},
      "outputs": [
        {
          "data": {
            "text/plain": [
              "True"
            ]
          },
          "execution_count": 20,
          "metadata": {},
          "output_type": "execute_result"
        }
      ],
      "source": [
        "gui.addBox(\"box\", 0.1, 0.1, 0.1, Color.green)\n",
        "gui.addToGroup(\"box\", \"tuto\")\n",
        "gui.setCameraToBestFit(\"tuto\")"
      ]
    },
    {
      "cell_type": "markdown",
      "metadata": {},
      "source": [
        "Add another node, directly in group *tuto*."
      ]
    },
    {
      "cell_type": "code",
      "execution_count": 15,
      "metadata": {},
      "outputs": [
        {
          "data": {
            "text/plain": [
              "True"
            ]
          },
          "execution_count": 15,
          "metadata": {},
          "output_type": "execute_result"
        }
      ],
      "source": [
        "gui.addCylinder(\"tuto/cyl\", 0.01, 0.1, Color.red)"
      ]
    },
    {
      "cell_type": "markdown",
      "metadata": {},
      "source": [
        "To move one node, you must use `applyConfiguration` and ",
        "then `refresh`. All calls to `applyConfiguration` are ",
        "applied at the next `refresh`."
      ]
    },
    {
      "cell_type": "code",
      "execution_count": 19,
      "metadata": {},
      "outputs": [
        {
          "data": {
            "text/plain": [
              "True"
            ]
          },
          "execution_count": 19,
          "metadata": {},
          "output_type": "execute_result"
        }
      ],
      "source": [
        "gui.applyConfiguration(\"tuto/cyl\", [0, 0, 0.1, 0, 0, 0, 1])\n",
        "gui.refresh()\n",
        "gui.setCameraToBestFit(\"tuto\")"
      ]
    }
  ],
  "metadata": {
    "kernelspec": {
      "display_name": "Python 3",
      "language": "python",
      "name": "python3"
    },
    "language_info": {
      "codemirror_mode": {
        "name": "ipython",
        "version": 3
      },
      "file_extension": ".py",
      "mimetype": "text/x-python",
      "name": "python",
      "nbconvert_exporter": "python",
      "pygments_lexer": "ipython3",
      "version": "3.6.9"
    }
  },
  "nbformat": 4,
  "nbformat_minor": 2
}
