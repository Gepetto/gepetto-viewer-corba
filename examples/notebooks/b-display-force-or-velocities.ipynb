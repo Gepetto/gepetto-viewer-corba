{
 "cells": [
  {
   "cell_type": "code",
   "execution_count": 1,
   "metadata": {},
   "outputs": [],
   "source": [
    "from gepetto.corbaserver import gui_client, start_server, Color\n",
    "\n",
    "start_server(args=[])\n",
    "gui = gui_client(window_name=\"tuto\")\n",
    "\n",
    "gui.createGroup(\"frame\")\n",
    "gui.addToGroup(\"frame\", \"tuto\")\n",
    "gui.addLandmark(\"frame\", 0.01)\n",
    "gui.applyConfiguration(\"frame\", [0.0, 0.5, 0.0, 0.0, 0.0, 0.0, 1.0])\n",
    "gui.refresh()"
   ]
  },
  {
   "cell_type": "markdown",
   "metadata": {},
   "source": [
    "# Display a 3D vector as a linear or rotational arrow\n",
    "\n",
    "The green and blue shape will represent the same vector."
   ]
  },
  {
   "cell_type": "code",
   "execution_count": 2,
   "metadata": {},
   "outputs": [],
   "source": [
    "from gepetto.corbaserver import tools\n",
    "\n",
    "lin = tools.Linear(\"frame/lin_arrow\", color=Color.green)\n",
    "lin.create(gui)\n",
    "\n",
    "ang = tools.Angular(\"frame/ang_arrow\", color=Color.blue)\n",
    "ang.create(gui)\n",
    "\n",
    "vel_in_local_frame = [\n",
    "    0.2,\n",
    "    0.3,\n",
    "    0.5,\n",
    "]\n",
    "lin.set(gui, vel_in_local_frame)\n",
    "ang.set(gui, vel_in_local_frame)\n",
    "\n",
    "# This call is required.\n",
    "gui.refresh()"
   ]
  },
  {
   "cell_type": "markdown",
   "metadata": {},
   "source": [
    "# Display a 6D vector"
   ]
  },
  {
   "cell_type": "code",
   "execution_count": 3,
   "metadata": {},
   "outputs": [],
   "source": [
    "from gepetto.corbaserver import tools\n",
    "\n",
    "# angFactor is the maximum norm of the angular vector.\n",
    "vector6 = tools.Vector6(\"frame\", angFactor=3.14)\n",
    "vector6.create(gui)\n",
    "\n",
    "vel_in_local_frame = [0.1, 0.0, 0.2, 0.3, 0.5, 0.0]\n",
    "vector6.set(gui, vel_in_local_frame)\n",
    "gui.refresh()"
   ]
  }
 ],
 "metadata": {
  "kernelspec": {
   "display_name": "Python 3",
   "language": "python",
   "name": "python3"
  },
  "language_info": {
   "codemirror_mode": {
    "name": "ipython",
    "version": 3
   },
   "file_extension": ".py",
   "mimetype": "text/x-python",
   "name": "python",
   "nbconvert_exporter": "python",
   "pygments_lexer": "ipython3",
   "version": "3.6.9"
  }
 },
 "nbformat": 4,
 "nbformat_minor": 2
}
